{
 "cells": [
  {
   "cell_type": "code",
   "execution_count": 196,
   "metadata": {},
   "outputs": [],
   "source": [
    "import pandas as pd\n",
    "import requests \n",
    "from bs4 import BeautifulSoup"
   ]
  },
  {
   "cell_type": "code",
   "execution_count": 197,
   "metadata": {},
   "outputs": [
    {
     "name": "stdout",
     "output_type": "stream",
     "text": [
      "Number of successful responses: 4\n"
     ]
    }
   ],
   "source": [
    "my_list = []\n",
    "\n",
    "# Fetch responses and handle errors\n",
    "for seats in range(552075, 552331):\n",
    "    try:\n",
    "        response = requests.get(f'https://shbabbek.com/natega/{seats}')\n",
    "        if response.status_code == 200:\n",
    "            my_list.append(response)\n",
    "    except Exception as e:\n",
    "        print(f\"Error fetching data for seat {seats}: {e}\")\n",
    "\n",
    "print(f\"Number of successful responses: {len(my_list)}\")"
   ]
  },
  {
   "cell_type": "code",
   "execution_count": 198,
   "metadata": {},
   "outputs": [],
   "source": [
    "def extraction(response):\n",
    "    soup = BeautifulSoup(response, 'lxml')\n",
    "    result = {}\n",
    "    \n",
    "\n",
    "    result[\"رقم الجلوس\"] = soup.find_all('h1')[0].text.strip()\n",
    "    result[\"الأسم\"] = soup.find_all('li', class_='resultItem')[3].find_all('span')[1].text.strip()\n",
    "    result[\"مجموع الدرجات\"] = soup.find_all('h1')[1].text.strip()\n",
    "    result[\"النسبة المئوية\"] = soup.find_all('h1')[2].text.strip()\n",
    "    result[\"المدرسة\"] = soup.find_all('li', class_='resultItem')[4].find_all('span')[1].text.strip()\n",
    "    result[\"الأدارة التعليمية\"] = soup.find_all('li', class_='resultItem')[5].find_all('span')[1].text.strip()\n",
    "    passed_text = soup.find_all('li', class_='resultItem')[6].find_all('span')[1].text.strip()\n",
    "    result[\"حالة الطالب\"] = 1 if \"ناجح\" in passed_text else 0\n",
    "    result[\"الشعبة \"] = soup.find_all('li', class_='resultItem')[7].find_all('span')[1].text.strip()\n",
    "    result[\"اللغة العربية\"] = soup.find_all('li', class_='resultItem')[8].find_all('span')[1].text.strip()\n",
    "    result[\"اللغة الأجنبية الأولى\"] = soup.find_all('li', class_='resultItem')[9].find_all('span')[1].text.strip()\n",
    "    result[\"اللغة الأجنبية الثانية\"] = soup.find_all('li', class_='resultItem')[10].find_all('span')[1].text.strip()\n",
    "    result[\"مجموع الرياضيات البحتة\"] = soup.find_all('li', class_='resultItem')[11].find_all('span')[1].text.strip()\n",
    "    result[\"التاريخ \"] = soup.find_all('li', class_='resultItem')[12].find_all('span')[1].text.strip()\n",
    "    result[\"الجغرافيا \"] = soup.find_all('li', class_='resultItem')[13].find_all('span')[1].text.strip()\n",
    "    result[\"الفلسفة والمنطق\"] = soup.find_all('li', class_='resultItem')[14].find_all('span')[1].text.strip()\n",
    "    result[\"علم النفس والاجتماع\"] = soup.find_all('li', class_='resultItem')[15].find_all('span')[1].text.strip()\n",
    "    result[\"الكيمياء \"] = soup.find_all('li', class_='resultItem')[16].find_all('span')[1].text.strip()\n",
    "    result[\"الأحياء \"] = soup.find_all('li', class_='resultItem')[17].find_all('span')[1].text.strip()\n",
    "    result[\"الجيولوجيا وعلوم البيئة\"] = soup.find_all('li', class_='resultItem')[18].find_all('span')[1].text.strip()\n",
    "    result[\"الرياضيات التطبيقية\"] = soup.find_all('li', class_='resultItem')[19].find_all('span')[1].text.strip()\n",
    "    result[\"الفيزياء \"] = soup.find_all('li', class_='resultItem')[20].find_all('span')[1].text.strip()\n",
    "    \n",
    "    return result"
   ]
  },
  {
   "cell_type": "code",
   "execution_count": 199,
   "metadata": {},
   "outputs": [],
   "source": [
    "# Initialize an empty DataFrame\n",
    "final = pd.DataFrame()"
   ]
  },
  {
   "cell_type": "code",
   "execution_count": 200,
   "metadata": {},
   "outputs": [],
   "source": [
    "# Process each response and append results to the DataFrame\n",
    "results = []\n",
    "for i, response in enumerate(my_list):\n",
    "    try:\n",
    "        result = extraction(response.content)\n",
    "        results.append(result)\n",
    "    except Exception as e:\n",
    "        print(f\"Error processing response {i}: {e}\")"
   ]
  },
  {
   "cell_type": "code",
   "execution_count": 201,
   "metadata": {},
   "outputs": [],
   "source": [
    "if results:\n",
    "    # Create a DataFrame from the list of dictionaries\n",
    "    final = pd.concat([pd.DataFrame([result]) for result in results], ignore_index=True)\n",
    "else:\n",
    "    # Handle the case where there are no results\n",
    "    final = pd.DataFrame()\n"
   ]
  },
  {
   "cell_type": "code",
   "execution_count": 202,
   "metadata": {},
   "outputs": [
    {
     "name": "stdout",
     "output_type": "stream",
     "text": [
      "Data saved to D:\\natega\\r.csv\n",
      "DataFrame created successfully.\n"
     ]
    }
   ],
   "source": [
    "# Specify the path where you want to save the CSV file\n",
    "file_path = r'D:\\natega\\r.csv'\n",
    "\n",
    "# Save the DataFrame to a CSV file\n",
    "final.to_csv(file_path, index=False)\n",
    "\n",
    "print(f\"Data saved to {file_path}\")\n",
    "print(\"DataFrame created successfully.\")"
   ]
  }
 ],
 "metadata": {
  "kernelspec": {
   "display_name": "Python 3",
   "language": "python",
   "name": "python3"
  },
  "language_info": {
   "codemirror_mode": {
    "name": "ipython",
    "version": 3
   },
   "file_extension": ".py",
   "mimetype": "text/x-python",
   "name": "python",
   "nbconvert_exporter": "python",
   "pygments_lexer": "ipython3",
   "version": "3.12.2"
  }
 },
 "nbformat": 4,
 "nbformat_minor": 2
}
